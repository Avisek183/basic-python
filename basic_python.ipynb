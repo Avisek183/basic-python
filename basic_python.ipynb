{
  "nbformat": 4,
  "nbformat_minor": 0,
  "metadata": {
    "colab": {
      "name": "basic_python.ipynb",
      "provenance": [],
      "authorship_tag": "ABX9TyPxAGgihMma6Aef0bH2c7d6",
      "include_colab_link": true
    },
    "kernelspec": {
      "name": "python3",
      "display_name": "Python 3"
    }
  },
  "cells": [
    {
      "cell_type": "markdown",
      "metadata": {
        "id": "view-in-github",
        "colab_type": "text"
      },
      "source": [
        "<a href=\"https://colab.research.google.com/github/Avisek183/basic-python/blob/main/basic_python.ipynb\" target=\"_parent\"><img src=\"https://colab.research.google.com/assets/colab-badge.svg\" alt=\"Open In Colab\"/></a>"
      ]
    },
    {
      "cell_type": "code",
      "metadata": {
        "id": "jgyRp154lImm",
        "colab": {
          "base_uri": "https://localhost:8080/",
          "height": 34
        },
        "outputId": "93f23753-20c9-4992-9be9-810d777951ef"
      },
      "source": [
        "print(10/5)"
      ],
      "execution_count": null,
      "outputs": [
        {
          "output_type": "stream",
          "text": [
            "2.0\n"
          ],
          "name": "stdout"
        }
      ]
    },
    {
      "cell_type": "code",
      "metadata": {
        "id": "F4Q1w7TrlMyJ",
        "colab": {
          "base_uri": "https://localhost:8080/",
          "height": 34
        },
        "outputId": "f6375e8b-5de4-413c-a216-5e6d05661d49"
      },
      "source": [
        "print(7+10)"
      ],
      "execution_count": null,
      "outputs": [
        {
          "output_type": "stream",
          "text": [
            "17\n"
          ],
          "name": "stdout"
        }
      ]
    },
    {
      "cell_type": "code",
      "metadata": {
        "id": "42YyaoHimMWX",
        "colab": {
          "base_uri": "https://localhost:8080/",
          "height": 34
        },
        "outputId": "dd8270cf-1a1b-4bfe-94a9-8f51d5f44e00"
      },
      "source": [
        "print(19-2)\n"
      ],
      "execution_count": null,
      "outputs": [
        {
          "output_type": "stream",
          "text": [
            "17\n"
          ],
          "name": "stdout"
        }
      ]
    },
    {
      "cell_type": "code",
      "metadata": {
        "id": "az8VR5fAmPrm",
        "colab": {
          "base_uri": "https://localhost:8080/",
          "height": 34
        },
        "outputId": "2b99123b-ab61-4aae-bb52-3d0ffc70e994"
      },
      "source": [
        "print(19*2)"
      ],
      "execution_count": null,
      "outputs": [
        {
          "output_type": "stream",
          "text": [
            "38\n"
          ],
          "name": "stdout"
        }
      ]
    },
    {
      "cell_type": "code",
      "metadata": {
        "id": "PiIpXTmimTpb",
        "colab": {
          "base_uri": "https://localhost:8080/",
          "height": 34
        },
        "outputId": "48922b28-9cb6-43dc-a81c-92af8af8464e"
      },
      "source": [
        "print(19**2)"
      ],
      "execution_count": null,
      "outputs": [
        {
          "output_type": "stream",
          "text": [
            "361\n"
          ],
          "name": "stdout"
        }
      ]
    },
    {
      "cell_type": "code",
      "metadata": {
        "id": "c-juIIg5mVrV",
        "colab": {
          "base_uri": "https://localhost:8080/",
          "height": 34
        },
        "outputId": "a0542e68-52d8-41dd-fa0d-c975d6ddb2bb"
      },
      "source": [
        "print(19%2)"
      ],
      "execution_count": null,
      "outputs": [
        {
          "output_type": "stream",
          "text": [
            "1\n"
          ],
          "name": "stdout"
        }
      ]
    },
    {
      "cell_type": "code",
      "metadata": {
        "id": "EcPoaXaRm_JG",
        "colab": {
          "base_uri": "https://localhost:8080/",
          "height": 68
        },
        "outputId": "3791c604-77cb-4eab-8d31-81834ae776c9"
      },
      "source": [
        "savings=100\n",
        "growth_multiplier=1.1\n",
        "result= 100 * ((1.1)**7)\n",
        "print(result)\n",
        "print(type(result))\n",
        "print(\"I started with INR \" + str( savings) + \" and now i have \" + str(result) + \" .Awesome\") "
      ],
      "execution_count": null,
      "outputs": [
        {
          "output_type": "stream",
          "text": [
            "194.87171000000012\n",
            "<class 'float'>\n",
            "I started with INR 100 and now i have 194.87171000000012 .Awesome\n"
          ],
          "name": "stdout"
        }
      ]
    },
    {
      "cell_type": "code",
      "metadata": {
        "id": "sTRjjNuRpoH8",
        "colab": {
          "base_uri": "https://localhost:8080/",
          "height": 34
        },
        "outputId": "7c5ef3fb-2668-4bfb-c426-e417861b1e9e"
      },
      "source": [
        "True + False"
      ],
      "execution_count": null,
      "outputs": [
        {
          "output_type": "execute_result",
          "data": {
            "text/plain": [
              "1"
            ]
          },
          "metadata": {
            "tags": []
          },
          "execution_count": 16
        }
      ]
    },
    {
      "cell_type": "code",
      "metadata": {
        "id": "lutwGXzDqTwD",
        "colab": {
          "base_uri": "https://localhost:8080/",
          "height": 51
        },
        "outputId": "0ffc8aba-c2a5-42cc-e7e7-51752b144ab2"
      },
      "source": [
        "#List of Lists\n",
        "hall=10.2\n",
        "kit=16.87\n",
        "bed=13.78\n",
        "bath=19.04\n",
        "house=[[\"Hallway\",hall],[\"Kitchen\",kit],[\"Bedroom\",bed],[\"Bathroom\",bath]]\n",
        "print(house)\n",
        "print(type(house))"
      ],
      "execution_count": null,
      "outputs": [
        {
          "output_type": "stream",
          "text": [
            "[['Hallway', 10.2], ['Kitchen', 16.87], ['Bedroom', 13.78], ['Bathroom', 19.04]]\n",
            "<class 'list'>\n"
          ],
          "name": "stdout"
        }
      ]
    },
    {
      "cell_type": "code",
      "metadata": {
        "id": "HHDvh6VMtr4S",
        "colab": {
          "base_uri": "https://localhost:8080/",
          "height": 170
        },
        "outputId": "b2fa3d77-4946-4a04-be98-30f36d97f4fd"
      },
      "source": [
        "house=[\"Hallway\",hall,\"Kitchen\",kit,\"Bedroom\",bed,\"Bathroom\",bath]\n",
        "print(house)\n",
        "print(house[1])\n",
        "print(house[-1])\n",
        "eat_sleep_area=house[3]+house[-3]\n",
        "print(eat_sleep_area)\n",
        "upstairs=house[0:5]\n",
        "downstairs=house[5:10]\n",
        "print(upstairs)\n",
        "print(downstairs)\n",
        "print(upstairs+downstairs)\n",
        "print(a)\n",
        "house_1=house+[\"garage\",23.5]\n",
        "print(house_1)"
      ],
      "execution_count": null,
      "outputs": [
        {
          "output_type": "stream",
          "text": [
            "['Hallway', 10.2, 'Kitchen', 16.87, 'Bedroom', 13.78, 'Bathroom', 19.04]\n",
            "10.2\n",
            "19.04\n",
            "30.65\n",
            "['Hallway', 10.2, 'Kitchen', 16.87, 'Bedroom']\n",
            "[13.78, 'Bathroom', 19.04]\n",
            "['Hallway', 10.2, 'Kitchen', 16.87, 'Bedroom', 13.78, 'Bathroom', 19.04]\n",
            "[]\n",
            "['Hallway', 10.2, 'Kitchen', 16.87, 'Bedroom', 13.78, 'Bathroom', 19.04, 'garage', 23.5]\n"
          ],
          "name": "stdout"
        }
      ]
    },
    {
      "cell_type": "code",
      "metadata": {
        "id": "F8d5YPOi4OXm",
        "colab": {
          "base_uri": "https://localhost:8080/",
          "height": 34
        },
        "outputId": "471beb26-9710-439b-d0ea-12ffc990e3d7"
      },
      "source": [
        "#deleting the list\n",
        "del(x[1])\n",
        "print(x)"
      ],
      "execution_count": null,
      "outputs": [
        {
          "output_type": "stream",
          "text": [
            "['a', 's', 't']\n"
          ],
          "name": "stdout"
        }
      ]
    },
    {
      "cell_type": "code",
      "metadata": {
        "id": "wqVAF8Df4nJL",
        "colab": {
          "base_uri": "https://localhost:8080/",
          "height": 51
        },
        "outputId": "fabb0b1b-3978-443d-a918-bf50e0075e5e"
      },
      "source": [
        "#changes in list affects original list.\n",
        "areas = [11.24,21.56,23.09,14.40]\n",
        "areas_copy=areas\n",
        "areas_copy[0]=22\n",
        "print(areas)\n",
        "print(areas_copy)"
      ],
      "execution_count": null,
      "outputs": [
        {
          "output_type": "stream",
          "text": [
            "[22, 21.56, 23.09, 14.4]\n",
            "[22, 21.56, 23.09, 14.4]\n"
          ],
          "name": "stdout"
        }
      ]
    },
    {
      "cell_type": "code",
      "metadata": {
        "id": "3Oz7u0IS5H_u",
        "colab": {
          "base_uri": "https://localhost:8080/",
          "height": 51
        },
        "outputId": "1ab6d793-61c7-443e-b7a4-f9ad263de90d"
      },
      "source": [
        "#how we can preserve original list\n",
        "areas = [11.24,21.56,23.09,14.40]\n",
        "areas_copy=list(areas)\n",
        "areas_copy[0]=22\n",
        "print(areas)\n",
        "print(areas_copy)"
      ],
      "execution_count": null,
      "outputs": [
        {
          "output_type": "stream",
          "text": [
            "[11.24, 21.56, 23.09, 14.4]\n",
            "[22, 21.56, 23.09, 14.4]\n"
          ],
          "name": "stdout"
        }
      ]
    },
    {
      "cell_type": "code",
      "metadata": {
        "id": "FgGIpeGeuXhI",
        "colab": {
          "base_uri": "https://localhost:8080/",
          "height": 34
        },
        "outputId": "aab19452-f0ea-4be0-c455-46705b0b383e"
      },
      "source": [
        "#subset and calculate\n",
        "x=[\"a\",\"b\",\"c\",\"d\"]\n",
        "print(x[1]+x[2])"
      ],
      "execution_count": null,
      "outputs": [
        {
          "output_type": "stream",
          "text": [
            "bc\n"
          ],
          "name": "stdout"
        }
      ]
    },
    {
      "cell_type": "code",
      "metadata": {
        "id": "HrbdYHvOwMtg",
        "colab": {
          "base_uri": "https://localhost:8080/",
          "height": 34
        },
        "outputId": "0633a1be-9cba-4d62-9ab2-2440c53bf661"
      },
      "source": [
        "x[1]=\"r\"\n",
        "x[2:]=[\"s\",\"t\"]\n",
        "print(x)"
      ],
      "execution_count": null,
      "outputs": [
        {
          "output_type": "stream",
          "text": [
            "['a', 'r', 's', 't']\n"
          ],
          "name": "stdout"
        }
      ]
    },
    {
      "cell_type": "code",
      "metadata": {
        "id": "83eGjgMi5dV9",
        "colab": {
          "base_uri": "https://localhost:8080/",
          "height": 204
        },
        "outputId": "d26d0772-8000-47bb-aff0-e92d6348ac27"
      },
      "source": [
        "help(max)\n"
      ],
      "execution_count": null,
      "outputs": [
        {
          "output_type": "stream",
          "text": [
            "Help on built-in function max in module builtins:\n",
            "\n",
            "max(...)\n",
            "    max(iterable, *[, default=obj, key=func]) -> value\n",
            "    max(arg1, arg2, *args, *[, key=func]) -> value\n",
            "    \n",
            "    With a single iterable argument, return its biggest item. The\n",
            "    default keyword-only argument specifies an object to return if\n",
            "    the provided iterable is empty.\n",
            "    With two or more arguments, return the largest argument.\n",
            "\n"
          ],
          "name": "stdout"
        }
      ]
    },
    {
      "cell_type": "code",
      "metadata": {
        "id": "JlShbwbn522e",
        "colab": {
          "base_uri": "https://localhost:8080/",
          "height": 51
        },
        "outputId": "2efa7137-816b-4a27-e4fa-a9bd0b783847"
      },
      "source": [
        "first=[11.0,20.0,19,1]\n",
        "second=[99,87]\n",
        "full=first+second\n",
        "full_sorted=sorted(full,reverse=False)\n",
        "print(full)\n",
        "print(full_sorted)"
      ],
      "execution_count": null,
      "outputs": [
        {
          "output_type": "stream",
          "text": [
            "[11.0, 20.0, 19, 1, 99, 87]\n",
            "[1, 11.0, 19, 20.0, 87, 99]\n"
          ],
          "name": "stdout"
        }
      ]
    },
    {
      "cell_type": "code",
      "metadata": {
        "id": "rbvi8ndm6_BF",
        "colab": {
          "base_uri": "https://localhost:8080/",
          "height": 34
        },
        "outputId": "1b8f324b-c35d-48f5-b2c9-f977ffa255c3"
      },
      "source": [
        "round(1.67)"
      ],
      "execution_count": null,
      "outputs": [
        {
          "output_type": "execute_result",
          "data": {
            "text/plain": [
              "2"
            ]
          },
          "metadata": {
            "tags": []
          },
          "execution_count": 41
        }
      ]
    },
    {
      "cell_type": "code",
      "metadata": {
        "id": "MshUiku37T3e",
        "colab": {
          "base_uri": "https://localhost:8080/",
          "height": 34
        },
        "outputId": "d52309d3-befa-446c-bddf-e38ad37c4ee4"
      },
      "source": [
        "len(x)"
      ],
      "execution_count": null,
      "outputs": [
        {
          "output_type": "execute_result",
          "data": {
            "text/plain": [
              "3"
            ]
          },
          "metadata": {
            "tags": []
          },
          "execution_count": 42
        }
      ]
    },
    {
      "cell_type": "code",
      "metadata": {
        "id": "rXCW_Z657XvX",
        "colab": {
          "base_uri": "https://localhost:8080/",
          "height": 34
        },
        "outputId": "c545ea8b-2045-4ab1-faf6-91d93de90083"
      },
      "source": [
        "max(x)"
      ],
      "execution_count": null,
      "outputs": [
        {
          "output_type": "execute_result",
          "data": {
            "text/plain": [
              "'t'"
            ]
          },
          "metadata": {
            "tags": []
          },
          "execution_count": 43
        }
      ]
    },
    {
      "cell_type": "code",
      "metadata": {
        "id": "H66Dx-h67wvl",
        "colab": {
          "base_uri": "https://localhost:8080/",
          "height": 68
        },
        "outputId": "72f4d1f5-e655-4263-87e0-6e6d6241b4f7"
      },
      "source": [
        "place=\"poolhouse\"\n",
        "place_up=place.upper()\n",
        "print(place_up)\n",
        "print(place)\n",
        "print(place.count(\"o\"))"
      ],
      "execution_count": null,
      "outputs": [
        {
          "output_type": "stream",
          "text": [
            "POOLHOUSE\n",
            "poolhouse\n",
            "3\n"
          ],
          "name": "stdout"
        }
      ]
    },
    {
      "cell_type": "code",
      "metadata": {
        "id": "G_mJQDn38I7E",
        "colab": {
          "base_uri": "https://localhost:8080/",
          "height": 34
        },
        "outputId": "1a97989f-2d53-411d-d29d-9835344de8e9"
      },
      "source": [
        "areas=[11.23,21.09,14.67,18.90]\n",
        "print(areas.index(21.09))"
      ],
      "execution_count": null,
      "outputs": [
        {
          "output_type": "stream",
          "text": [
            "1\n"
          ],
          "name": "stdout"
        }
      ]
    }
  ]
}